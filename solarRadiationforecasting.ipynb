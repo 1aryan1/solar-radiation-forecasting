{
  "cells": [
    {
      "cell_type": "markdown",
      "metadata": {
        "id": "view-in-github",
        "colab_type": "text"
      },
      "source": [
        "<a href=\"https://colab.research.google.com/github/nivi62/machine-learning/blob/main/solarRadiationforecasting.ipynb\" target=\"_parent\"><img src=\"https://colab.research.google.com/assets/colab-badge.svg\" alt=\"Open In Colab\"/></a>"
      ]
    },
    {
      "cell_type": "code",
      "execution_count": null,
      "metadata": {
        "_cell_guid": "b1076dfc-b9ad-4769-8c92-a6c4dae69d19",
        "_uuid": "8f2839f25d086af736a60e9eeb907d3b93b6e0e5",
        "execution": {
          "iopub.execute_input": "2022-01-14T14:50:48.231875Z",
          "iopub.status.busy": "2022-01-14T14:50:48.231596Z",
          "iopub.status.idle": "2022-01-14T14:50:48.237658Z",
          "shell.execute_reply": "2022-01-14T14:50:48.236015Z",
          "shell.execute_reply.started": "2022-01-14T14:50:48.231844Z"
        },
        "id": "pe8Av4w22Pdz"
      },
      "outputs": [],
      "source": [
        "from keras.models import Sequential\n",
        "from keras.layers import Dense, Dropout, LSTM, Bidirectional\n",
        "from sklearn.preprocessing import MinMaxScaler\n",
        "import pandas as pd\n",
        "import numpy as np\n",
        "import matplotlib.pyplot as plt"
      ]
    },
    {
      "cell_type": "code",
      "execution_count": null,
      "metadata": {
        "execution": {
          "iopub.execute_input": "2022-01-14T14:50:48.244163Z",
          "iopub.status.busy": "2022-01-14T14:50:48.243867Z",
          "iopub.status.idle": "2022-01-14T14:50:48.316291Z",
          "shell.execute_reply": "2022-01-14T14:50:48.315253Z",
          "shell.execute_reply.started": "2022-01-14T14:50:48.244128Z"
        },
        "id": "mCfh5wtd2Pd2",
        "outputId": "5bbc1afe-18b1-4c0f-b0a9-d46bf8ac4161"
      },
      "outputs": [
        {
          "data": {
            "text/html": [
              "<div>\n",
              "<style scoped>\n",
              "    .dataframe tbody tr th:only-of-type {\n",
              "        vertical-align: middle;\n",
              "    }\n",
              "\n",
              "    .dataframe tbody tr th {\n",
              "        vertical-align: top;\n",
              "    }\n",
              "\n",
              "    .dataframe thead th {\n",
              "        text-align: right;\n",
              "    }\n",
              "</style>\n",
              "<table border=\"1\" class=\"dataframe\">\n",
              "  <thead>\n",
              "    <tr style=\"text-align: right;\">\n",
              "      <th></th>\n",
              "      <th>UNIXTime</th>\n",
              "      <th>Date</th>\n",
              "      <th>Time</th>\n",
              "      <th>Radiation</th>\n",
              "      <th>Temperature</th>\n",
              "      <th>Pressure</th>\n",
              "      <th>Humidity</th>\n",
              "      <th>WindDirection(Degrees)</th>\n",
              "      <th>Speed</th>\n",
              "      <th>TimeSunRise</th>\n",
              "      <th>TimeSunSet</th>\n",
              "    </tr>\n",
              "  </thead>\n",
              "  <tbody>\n",
              "    <tr>\n",
              "      <th>0</th>\n",
              "      <td>1475229326</td>\n",
              "      <td>2016-09-29</td>\n",
              "      <td>23:55:26</td>\n",
              "      <td>1.21</td>\n",
              "      <td>48</td>\n",
              "      <td>30.46</td>\n",
              "      <td>59</td>\n",
              "      <td>177.39</td>\n",
              "      <td>5.62</td>\n",
              "      <td>0.26</td>\n",
              "      <td>0.76</td>\n",
              "    </tr>\n",
              "    <tr>\n",
              "      <th>1</th>\n",
              "      <td>1475229023</td>\n",
              "      <td>2016-09-29</td>\n",
              "      <td>23:50:23</td>\n",
              "      <td>1.21</td>\n",
              "      <td>48</td>\n",
              "      <td>30.46</td>\n",
              "      <td>58</td>\n",
              "      <td>176.78</td>\n",
              "      <td>3.37</td>\n",
              "      <td>0.26</td>\n",
              "      <td>0.76</td>\n",
              "    </tr>\n",
              "    <tr>\n",
              "      <th>2</th>\n",
              "      <td>1475228726</td>\n",
              "      <td>2016-09-29</td>\n",
              "      <td>23:45:26</td>\n",
              "      <td>1.23</td>\n",
              "      <td>48</td>\n",
              "      <td>30.46</td>\n",
              "      <td>57</td>\n",
              "      <td>158.75</td>\n",
              "      <td>3.37</td>\n",
              "      <td>0.26</td>\n",
              "      <td>0.76</td>\n",
              "    </tr>\n",
              "    <tr>\n",
              "      <th>3</th>\n",
              "      <td>1475228421</td>\n",
              "      <td>2016-09-29</td>\n",
              "      <td>23:40:21</td>\n",
              "      <td>1.21</td>\n",
              "      <td>48</td>\n",
              "      <td>30.46</td>\n",
              "      <td>60</td>\n",
              "      <td>137.71</td>\n",
              "      <td>3.37</td>\n",
              "      <td>0.26</td>\n",
              "      <td>0.76</td>\n",
              "    </tr>\n",
              "    <tr>\n",
              "      <th>4</th>\n",
              "      <td>1475228124</td>\n",
              "      <td>2016-09-29</td>\n",
              "      <td>23:35:24</td>\n",
              "      <td>1.17</td>\n",
              "      <td>48</td>\n",
              "      <td>30.46</td>\n",
              "      <td>62</td>\n",
              "      <td>104.95</td>\n",
              "      <td>5.62</td>\n",
              "      <td>0.26</td>\n",
              "      <td>0.76</td>\n",
              "    </tr>\n",
              "  </tbody>\n",
              "</table>\n",
              "</div>"
            ],
            "text/plain": [
              "     UNIXTime        Date      Time  Radiation  Temperature  Pressure  \\\n",
              "0  1475229326  2016-09-29  23:55:26       1.21           48     30.46   \n",
              "1  1475229023  2016-09-29  23:50:23       1.21           48     30.46   \n",
              "2  1475228726  2016-09-29  23:45:26       1.23           48     30.46   \n",
              "3  1475228421  2016-09-29  23:40:21       1.21           48     30.46   \n",
              "4  1475228124  2016-09-29  23:35:24       1.17           48     30.46   \n",
              "\n",
              "   Humidity  WindDirection(Degrees)  Speed  TimeSunRise  TimeSunSet  \n",
              "0        59                  177.39   5.62         0.26        0.76  \n",
              "1        58                  176.78   3.37         0.26        0.76  \n",
              "2        57                  158.75   3.37         0.26        0.76  \n",
              "3        60                  137.71   3.37         0.26        0.76  \n",
              "4        62                  104.95   5.62         0.26        0.76  "
            ]
          },
          "execution_count": 2,
          "metadata": {},
          "output_type": "execute_result"
        }
      ],
      "source": [
        "data = pd.read_csv('Pp.csv')\n",
        "data.head()"
      ]
    },
    {
      "cell_type": "code",
      "execution_count": null,
      "metadata": {
        "execution": {
          "iopub.execute_input": "2022-01-14T14:50:48.547792Z",
          "iopub.status.busy": "2022-01-14T14:50:48.547325Z",
          "iopub.status.idle": "2022-01-14T14:50:48.560061Z",
          "shell.execute_reply": "2022-01-14T14:50:48.559315Z",
          "shell.execute_reply.started": "2022-01-14T14:50:48.547755Z"
        },
        "id": "OVcdM7eo2Pd4",
        "outputId": "70fd92f5-d42b-4d42-9d69-01a00f15f72c"
      },
      "outputs": [
        {
          "data": {
            "text/html": [
              "<div>\n",
              "<style scoped>\n",
              "    .dataframe tbody tr th:only-of-type {\n",
              "        vertical-align: middle;\n",
              "    }\n",
              "\n",
              "    .dataframe tbody tr th {\n",
              "        vertical-align: top;\n",
              "    }\n",
              "\n",
              "    .dataframe thead th {\n",
              "        text-align: right;\n",
              "    }\n",
              "</style>\n",
              "<table border=\"1\" class=\"dataframe\">\n",
              "  <thead>\n",
              "    <tr style=\"text-align: right;\">\n",
              "      <th></th>\n",
              "      <th>Radiation</th>\n",
              "    </tr>\n",
              "    <tr>\n",
              "      <th>UNIXTime</th>\n",
              "      <th></th>\n",
              "    </tr>\n",
              "  </thead>\n",
              "  <tbody>\n",
              "    <tr>\n",
              "      <th>1481318139</th>\n",
              "      <td>120.52</td>\n",
              "    </tr>\n",
              "    <tr>\n",
              "      <th>1481317850</th>\n",
              "      <td>107.32</td>\n",
              "    </tr>\n",
              "    <tr>\n",
              "      <th>1481317540</th>\n",
              "      <td>144.85</td>\n",
              "    </tr>\n",
              "    <tr>\n",
              "      <th>1481317251</th>\n",
              "      <td>179.73</td>\n",
              "    </tr>\n",
              "    <tr>\n",
              "      <th>1481316953</th>\n",
              "      <td>193.00</td>\n",
              "    </tr>\n",
              "  </tbody>\n",
              "</table>\n",
              "</div>"
            ],
            "text/plain": [
              "            Radiation\n",
              "UNIXTime             \n",
              "1481318139     120.52\n",
              "1481317850     107.32\n",
              "1481317540     144.85\n",
              "1481317251     179.73\n",
              "1481316953     193.00"
            ]
          },
          "execution_count": 3,
          "metadata": {},
          "output_type": "execute_result"
        }
      ],
      "source": [
        "data_sun = data[['UNIXTime','Radiation']].iloc[:31000,:]\n",
        "data_sun.set_index('UNIXTime',drop=True,inplace=True)\n",
        "data_sun.tail()"
      ]
    },
    {
      "cell_type": "code",
      "execution_count": null,
      "metadata": {
        "execution": {
          "iopub.execute_input": "2022-01-14T14:50:48.561771Z",
          "iopub.status.busy": "2022-01-14T14:50:48.561519Z",
          "iopub.status.idle": "2022-01-14T14:50:48.575687Z",
          "shell.execute_reply": "2022-01-14T14:50:48.574990Z",
          "shell.execute_reply.started": "2022-01-14T14:50:48.561735Z"
        },
        "id": "gxEVjrS_2Pd5",
        "outputId": "1759e6f1-7cbd-438f-f8a9-de6ad23e17ee"
      },
      "outputs": [
        {
          "data": {
            "text/html": [
              "<div>\n",
              "<style scoped>\n",
              "    .dataframe tbody tr th:only-of-type {\n",
              "        vertical-align: middle;\n",
              "    }\n",
              "\n",
              "    .dataframe tbody tr th {\n",
              "        vertical-align: top;\n",
              "    }\n",
              "\n",
              "    .dataframe thead th {\n",
              "        text-align: right;\n",
              "    }\n",
              "</style>\n",
              "<table border=\"1\" class=\"dataframe\">\n",
              "  <thead>\n",
              "    <tr style=\"text-align: right;\">\n",
              "      <th></th>\n",
              "      <th>Radiation</th>\n",
              "    </tr>\n",
              "    <tr>\n",
              "      <th>UNIXTime</th>\n",
              "      <th></th>\n",
              "    </tr>\n",
              "  </thead>\n",
              "  <tbody>\n",
              "    <tr>\n",
              "      <th>1475229326</th>\n",
              "      <td>0.000062</td>\n",
              "    </tr>\n",
              "    <tr>\n",
              "      <th>1475229023</th>\n",
              "      <td>0.000062</td>\n",
              "    </tr>\n",
              "    <tr>\n",
              "      <th>1475228726</th>\n",
              "      <td>0.000075</td>\n",
              "    </tr>\n",
              "    <tr>\n",
              "      <th>1475228421</th>\n",
              "      <td>0.000062</td>\n",
              "    </tr>\n",
              "    <tr>\n",
              "      <th>1475228124</th>\n",
              "      <td>0.000037</td>\n",
              "    </tr>\n",
              "  </tbody>\n",
              "</table>\n",
              "</div>"
            ],
            "text/plain": [
              "            Radiation\n",
              "UNIXTime             \n",
              "1475229326   0.000062\n",
              "1475229023   0.000062\n",
              "1475228726   0.000075\n",
              "1475228421   0.000062\n",
              "1475228124   0.000037"
            ]
          },
          "execution_count": 4,
          "metadata": {},
          "output_type": "execute_result"
        }
      ],
      "source": [
        "MMS = MinMaxScaler()\n",
        "data_sun[data_sun.columns] = MMS.fit_transform(data_sun)\n",
        "data_sun.head()"
      ]
    },
    {
      "cell_type": "code",
      "execution_count": null,
      "metadata": {
        "execution": {
          "iopub.execute_input": "2022-01-14T14:50:48.578363Z",
          "iopub.status.busy": "2022-01-14T14:50:48.577906Z",
          "iopub.status.idle": "2022-01-14T14:50:48.582749Z",
          "shell.execute_reply": "2022-01-14T14:50:48.582045Z",
          "shell.execute_reply.started": "2022-01-14T14:50:48.578329Z"
        },
        "id": "h-Br8rr32Pd6"
      },
      "outputs": [],
      "source": [
        "training_size = round(len(data_sun) * 0.80)\n",
        "train_data = data_sun[:training_size]\n",
        "test_data  = data_sun[training_size:]"
      ]
    },
    {
      "cell_type": "code",
      "execution_count": null,
      "metadata": {
        "execution": {
          "iopub.execute_input": "2022-01-14T14:50:48.585918Z",
          "iopub.status.busy": "2022-01-14T14:50:48.585387Z",
          "iopub.status.idle": "2022-01-14T14:50:48.592736Z",
          "shell.execute_reply": "2022-01-14T14:50:48.592001Z",
          "shell.execute_reply.started": "2022-01-14T14:50:48.585885Z"
        },
        "id": "phH4vrQb2Pd6"
      },
      "outputs": [],
      "source": [
        "def create_sequence(dataset,sequence_len):\n",
        "  sequences = []\n",
        "  labels = []\n",
        "  start_idx = 0\n",
        "  for stop_idx in range(sequence_len,len(dataset)):\n",
        "    sequences.append(dataset.iloc[start_idx:stop_idx])\n",
        "    labels.append(dataset.iloc[stop_idx])\n",
        "    start_idx += 1\n",
        "  return (np.array(sequences),np.array(labels))"
      ]
    },
    {
      "cell_type": "code",
      "execution_count": null,
      "metadata": {
        "execution": {
          "iopub.execute_input": "2022-01-14T14:50:48.594604Z",
          "iopub.status.busy": "2022-01-14T14:50:48.593887Z",
          "iopub.status.idle": "2022-01-14T14:50:53.316896Z",
          "shell.execute_reply": "2022-01-14T14:50:53.315978Z",
          "shell.execute_reply.started": "2022-01-14T14:50:48.594562Z"
        },
        "id": "HzVjUXjk2Pd7",
        "outputId": "86347331-d75f-4c67-d79a-13be075ecadc"
      },
      "outputs": [
        {
          "name": "stdout",
          "output_type": "stream",
          "text": [
            "(24700, 100, 1) (6100, 100, 1)\n"
          ]
        }
      ],
      "source": [
        "X_train, y_train = create_sequence(train_data,100)\n",
        "X_val, y_val = create_sequence(test_data,100)\n",
        "\n",
        "print(X_train.shape, X_val.shape)"
      ]
    },
    {
      "cell_type": "code",
      "execution_count": null,
      "metadata": {
        "id": "f6LfKJmU2Pd7"
      },
      "outputs": [],
      "source": [
        "from keras import backend\n",
        "def rmse(y_true, y_pred):\n",
        " return backend.sqrt(backend.mean(backend.square(y_pred - y_true), axis=-1))"
      ]
    },
    {
      "cell_type": "code",
      "execution_count": null,
      "metadata": {
        "execution": {
          "iopub.execute_input": "2022-01-14T14:50:53.318688Z",
          "iopub.status.busy": "2022-01-14T14:50:53.318027Z",
          "iopub.status.idle": "2022-01-14T14:50:53.880295Z",
          "shell.execute_reply": "2022-01-14T14:50:53.879569Z",
          "shell.execute_reply.started": "2022-01-14T14:50:53.318648Z"
        },
        "id": "X6P8CAky2Pd8"
      },
      "outputs": [],
      "source": [
        "model = Sequential()\n",
        "model.add(LSTM(units = 64, return_sequences=True, input_shape = (X_train.shape[1], X_train.shape[2])))\n",
        "model.add(Dropout(0.1))\n",
        "model.add(LSTM(units = 32))\n",
        "model.add(Dense(1))\n",
        "model.compile(loss='mean_squared_error', optimizer='adam', metrics=['mean_absolute_error',rmse])\n"
      ]
    },
    {
      "cell_type": "code",
      "execution_count": null,
      "metadata": {
        "execution": {
          "iopub.execute_input": "2022-01-14T14:50:53.883709Z",
          "iopub.status.busy": "2022-01-14T14:50:53.883509Z",
          "iopub.status.idle": "2022-01-14T14:55:18.110048Z",
          "shell.execute_reply": "2022-01-14T14:55:18.109290Z",
          "shell.execute_reply.started": "2022-01-14T14:50:53.883685Z"
        },
        "id": "z0Z7Q2NB2Pd9",
        "outputId": "2d19ff7b-906f-4469-d547-fd499a548dc6"
      },
      "outputs": [
        {
          "name": "stdout",
          "output_type": "stream",
          "text": [
            "Epoch 1/10\n",
            "772/772 [==============================] - 56s 66ms/step - loss: 0.0039 - mean_absolute_error: 0.0316 - rmse: 0.0316 - val_loss: 0.0018 - val_mean_absolute_error: 0.0199 - val_rmse: 0.0199\n",
            "Epoch 2/10\n",
            "772/772 [==============================] - 52s 68ms/step - loss: 0.0031 - mean_absolute_error: 0.0264 - rmse: 0.0264 - val_loss: 0.0016 - val_mean_absolute_error: 0.0203 - val_rmse: 0.0203\n",
            "Epoch 3/10\n",
            "772/772 [==============================] - 48s 63ms/step - loss: 0.0030 - mean_absolute_error: 0.0257 - rmse: 0.0257 - val_loss: 0.0015 - val_mean_absolute_error: 0.0170 - val_rmse: 0.0170\n",
            "Epoch 4/10\n",
            "772/772 [==============================] - 48s 62ms/step - loss: 0.0030 - mean_absolute_error: 0.0249 - rmse: 0.0249 - val_loss: 0.0015 - val_mean_absolute_error: 0.0156 - val_rmse: 0.0156\n",
            "Epoch 5/10\n",
            "772/772 [==============================] - 52s 67ms/step - loss: 0.0029 - mean_absolute_error: 0.0249 - rmse: 0.0249 - val_loss: 0.0015 - val_mean_absolute_error: 0.0183 - val_rmse: 0.0183\n",
            "Epoch 6/10\n",
            "772/772 [==============================] - 48s 62ms/step - loss: 0.0029 - mean_absolute_error: 0.0244 - rmse: 0.0244 - val_loss: 0.0016 - val_mean_absolute_error: 0.0184 - val_rmse: 0.0184\n",
            "Epoch 7/10\n",
            "772/772 [==============================] - 47s 61ms/step - loss: 0.0029 - mean_absolute_error: 0.0238 - rmse: 0.0238 - val_loss: 0.0014 - val_mean_absolute_error: 0.0161 - val_rmse: 0.0161\n",
            "Epoch 8/10\n",
            "772/772 [==============================] - 48s 62ms/step - loss: 0.0029 - mean_absolute_error: 0.0242 - rmse: 0.0242 - val_loss: 0.0014 - val_mean_absolute_error: 0.0149 - val_rmse: 0.0149\n",
            "Epoch 9/10\n",
            "772/772 [==============================] - 48s 62ms/step - loss: 0.0028 - mean_absolute_error: 0.0237 - rmse: 0.0237 - val_loss: 0.0015 - val_mean_absolute_error: 0.0168 - val_rmse: 0.0168\n",
            "Epoch 10/10\n",
            "772/772 [==============================] - 49s 64ms/step - loss: 0.0028 - mean_absolute_error: 0.0235 - rmse: 0.0235 - val_loss: 0.0014 - val_mean_absolute_error: 0.0158 - val_rmse: 0.0158\n"
          ]
        }
      ],
      "source": [
        "history = model.fit(X_train, y_train, epochs = 10, validation_data = (X_val, y_val), verbose = 1)"
      ]
    },
    {
      "cell_type": "code",
      "execution_count": null,
      "metadata": {
        "execution": {
          "iopub.execute_input": "2022-01-14T14:55:18.112698Z",
          "iopub.status.busy": "2022-01-14T14:55:18.111526Z",
          "iopub.status.idle": "2022-01-14T14:55:18.437799Z",
          "shell.execute_reply": "2022-01-14T14:55:18.437108Z",
          "shell.execute_reply.started": "2022-01-14T14:55:18.112658Z"
        },
        "id": "hd9MSIWc2Pd9",
        "outputId": "b73aa5e5-0470-408b-8c59-0f9d23a9b54c"
      },
      "outputs": [
        {
          "data": {
            "image/png": "[encoded data removed]",
            "text/plain": [
              "<Figure size 864x288 with 2 Axes>"
            ]
          },
          "metadata": {
            "needs_background": "light"
          },
          "output_type": "display_data"
        }
      ],
      "source": [
        "rmse = history.history['rmse']\n",
        "mae = history.history['mean_absolute_error']\n",
        "val_error = history.history['val_mean_absolute_error']\n",
        "\n",
        "loss = history.history['loss']\n",
        "val_loss = history.history['val_loss']\n",
        "\n",
        "epochs_range = range(1, len(val_error)+1)\n",
        "plt.figure(figsize=(12, 4))\n",
        "\n",
        "plt.subplot(1, 2, 1)\n",
        "plt.plot(epochs_range, mae, label='MAE')\n",
        "plt.plot(epochs_range, rmse, label='RMSE')\n",
        "plt.plot(epochs_range, val_error, label='Validation error')\n",
        "plt.legend(loc='lower right')\n",
        "plt.xlim(1, len(val_error)+1)\n",
        "plt.title('Training and Validation error')\n",
        "\n",
        "plt.subplot(1, 2, 2)\n",
        "plt.plot(epochs_range, loss, label='Training Loss')\n",
        "plt.plot(epochs_range, val_loss, label='Validation Loss')\n",
        "plt.legend(loc='upper right')\n",
        "plt.xlim(1, len(val_error)+1)\n",
        "plt.title('Training and Validation Loss')\n",
        "plt.show()"
      ]
    },
    {
      "cell_type": "code",
      "execution_count": null,
      "metadata": {
        "id": "Cy-3C5jZ2Pd-",
        "outputId": "771bb693-e5eb-4ede-9b33-34753c2d3570"
      },
      "outputs": [
        {
          "name": "stdout",
          "output_type": "stream",
          "text": [
            "RMSE values :  [0.03162887692451477, 0.026430213823914528, 0.025702428072690964, 0.024934345856308937, 0.024939879775047302, 0.024405810981988907, 0.02380518801510334, 0.024158405140042305, 0.0237469132989645, 0.02352357655763626]\n",
            "MAE values :  [0.03162887692451477, 0.026430213823914528, 0.025702428072690964, 0.024934345856308937, 0.024939879775047302, 0.024405810981988907, 0.02380518801510334, 0.024158405140042305, 0.0237469132989645, 0.02352357655763626]\n"
          ]
        }
      ],
      "source": [
        "print(\"RMSE values : \",rmse)\n",
        "print(\"MAE values : \",mae)"
      ]
    },
    {
      "cell_type": "code",
      "execution_count": null,
      "metadata": {
        "execution": {
          "iopub.execute_input": "2022-01-14T15:06:00.140506Z",
          "iopub.status.busy": "2022-01-14T15:06:00.140232Z",
          "iopub.status.idle": "2022-01-14T15:06:01.144771Z",
          "shell.execute_reply": "2022-01-14T15:06:01.144130Z",
          "shell.execute_reply.started": "2022-01-14T15:06:00.140478Z"
        },
        "id": "R_vI3N3b2Pd_",
        "outputId": "a3df353b-0865-45fa-9381-7d5451ee4991"
      },
      "outputs": [
        {
          "name": "stdout",
          "output_type": "stream",
          "text": [
            "191/191 [==============================] - 4s 17ms/step\n"
          ]
        }
      ],
      "source": [
        "test_predicted = model.predict(X_val)"
      ]
    },
    {
      "cell_type": "code",
      "execution_count": null,
      "metadata": {
        "id": "FLjSaug-2Pd_",
        "outputId": "41b0d951-e137-4c16-c41a-681740995a7a"
      },
      "outputs": [
        {
          "data": {
            "text/plain": [
              "<matplotlib.legend.Legend at 0x2651fea2a00>"
            ]
          },
          "execution_count": 14,
          "metadata": {},
          "output_type": "execute_result"
        },
        {
          "data": {
            "image/png": "[encoded data removed]",
            "text/plain": [
              "<Figure size 1440x360 with 1 Axes>"
            ]
          },
          "metadata": {
            "needs_background": "light"
          },
          "output_type": "display_data"
        }
      ],
      "source": [
        "fig=plt.figure(figsize=(20,5))\n",
        "plt.subplot(1,2,1)\n",
        "plt.plot(np.arange(3160,3167),test_predicted[3160:3167],label='Predicted Radiation')\n",
        "plt.plot(np.arange(3160,3167),y_val[3160:3167],label=\"Radiation\")\n",
        "plt.title('7 Days Radiation Prediction')\n",
        "plt.legend()"
      ]
    },
    {
      "cell_type": "code",
      "execution_count": null,
      "metadata": {
        "id": "nnI8kJQo2PeA",
        "outputId": "7ece14b0-dd37-4d69-e7fb-2a4b1c063b40"
      },
      "outputs": [
        {
          "name": "stdout",
          "output_type": "stream",
          "text": [
            "Accuracy :  0.9490880939689\n"
          ]
        }
      ],
      "source": [
        "from sklearn.metrics import r2_score\n",
        "print(\"Accuracy : \",r2_score(y_val, test_predicted))"
      ]
    }
  ],
  "metadata": {
    "kernelspec": {
      "display_name": "Python 3",
      "language": "python",
      "name": "python3"
    },
    "language_info": {
      "codemirror_mode": {
        "name": "ipython",
        "version": 3
      },
      "file_extension": ".py",
      "mimetype": "text/x-python",
      "name": "python",
      "nbconvert_exporter": "python",
      "pygments_lexer": "ipython3",
      "version": "3.8.5"
    },
    "colab": {
      "provenance": [],
      "include_colab_link": true
    }
  },
  "nbformat": 4,
  "nbformat_minor": 0
}